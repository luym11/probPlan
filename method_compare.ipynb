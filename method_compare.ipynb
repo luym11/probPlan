{
 "cells": [
  {
   "cell_type": "markdown",
   "metadata": {},
   "source": [
    "### Comparing methods\n"
   ]
  },
  {
   "cell_type": "code",
   "execution_count": 2,
   "metadata": {},
   "outputs": [],
   "source": [
    "import numpy as np \n",
    "import importlib\n",
    "import testDijkToEdge\n",
    "import maxProbAstar\n",
    "import path_evaluation\n",
    "from maxProbAstar import MaxProbAstar\n",
    "from problem_setting import ProblemSetting\n",
    "from path_evaluation import PathEvaluation\n",
    "import copy\n",
    "import math\n",
    "import matplotlib.pyplot as plt\n",
    "import time\n",
    "import automaton_dp\n",
    "import plot3d_fire\n",
    "import pickle\n",
    "import seaborn as sns\n",
    "import os\n",
    "import functools\n",
    "from testDijkToEdge import UpdateEnv"
   ]
  },
  {
   "cell_type": "code",
   "execution_count": 168,
   "metadata": {},
   "outputs": [],
   "source": [
    "# problem parameters\n",
    "_SIZE = 20\n",
    "_STPFlag = 1 # flag for enabling STP. If set to 0, use average probability\n",
    "_obsvEffectRange=2\n",
    "_replanRange=2"
   ]
  },
  {
   "cell_type": "code",
   "execution_count": 328,
   "metadata": {},
   "outputs": [],
   "source": [
    "# problem setup\n",
    "xTar = 8\n",
    "yTar = 16\n",
    "xEnd = 11\n",
    "yEnd = 19\n",
    "p1 = ProblemSetting(target = [[xTar,yTar]], endPoint = [[xEnd,yEnd]],_stochastic_environment_flag=1, _setting_num=1)\n",
    "# monteCarloAverageFireMap, monteCarloFireMap = p1.compute_monteCarlo_2(3000)\n",
    "monteCarloFireMap = pickle.load(open('MCFMs3000',\"rb\"))\n",
    "monteCarloAverageFireMap = pickle.load(open('MCAFMs3000',\"rb\"))"
   ]
  },
  {
   "cell_type": "code",
   "execution_count": 357,
   "metadata": {},
   "outputs": [],
   "source": [
    "# DP solution\n",
    "# aDP1 = automaton_dp.AutomatonDP(p1.M,p1.N,p1.T,p1.Map,monteCarloAverageFireMap, monteCarloFireMap, p1.StartPoint,p1.EndPoint,p1.Target,p1.Wall,p1.Fire,Q=4, STPFlag=_STPFlag)\n",
    "# aDP1.solve()\n",
    "# with open('aDP1','wb') as fp:\n",
    "#         pickle.dump(aDP1, fp)\n",
    "aDP1 = pickle.load(open('aDP1',\"rb\"))"
   ]
  },
  {
   "cell_type": "code",
   "execution_count": 362,
   "metadata": {},
   "outputs": [
    {
     "name": "stdout",
     "output_type": "stream",
     "text": [
      "[(8, 7, -1), (7, 7, -1), (7, 8, -1), (6, 8, -1), (6, 9, -1), (6, 10, -1), (5, 10, -1), (5, 11, -1), (5, 12, -1), (5, 13, -1), (5, 14, -1), (5, 15, -1), (5, 16, -1), (6, 16, -1), (7, 16, -1), (8, 16, -2), (8, 17, -2), (8, 18, -2), (8, 19, -2), (9, 19, -2), (10, 19, -2), (11, 19, -3)]\n"
     ]
    }
   ],
   "source": [
    "# query old path\n",
    "oldCost, _oldPath, oldControl = aDP1.query_optimal_solution(0, [8,0,-1])\n",
    "_oldPathCopy = copy.deepcopy(_oldPath)\n",
    "aDP1.remove_duplicated_path_segs(_oldPathCopy)\n",
    "oldPath = _oldPathCopy[7:]\n",
    "print(oldPath)"
   ]
  },
  {
   "cell_type": "code",
   "execution_count": 332,
   "metadata": {},
   "outputs": [],
   "source": [
    "# reload stuff\n",
    "importlib.reload(path_evaluation)\n",
    "from path_evaluation import PathEvaluation\n",
    "importlib.reload(maxProbAstar)\n",
    "from maxProbAstar import MaxProbAstar\n",
    "importlib.reload(testDijkToEdge)\n",
    "from testDijkToEdge import UpdateEnv\n",
    "\n",
    "# let the robot observe at xT=8,yT=7, at tT = 7\n",
    "tT = 7; xT = 8; yT = 7; # s=138 for (7,9), 7 for (7,7) # 653 for lots\n",
    "T=tT\n",
    "upe = UpdateEnv(p1.M,p1.N,p1.Wall,p1.Fire,monteCarloFireMap, monteCarloAverageFireMap, obsvEffectRange=_obsvEffectRange, replanRange=_replanRange,tT = tT,aDP1=aDP1)"
   ]
  },
  {
   "cell_type": "code",
   "execution_count": 323,
   "metadata": {},
   "outputs": [],
   "source": [
    "importlib.reload(problem_setting)\n",
    "from problem_setting import ProblemSetting"
   ]
  },
  {
   "cell_type": "code",
   "execution_count": 369,
   "metadata": {},
   "outputs": [
    {
     "name": "stdout",
     "output_type": "stream",
     "text": [
      "Replanning took: 43.665324 seconds\n",
      "counter is 2199\n",
      "h is 200\n",
      "Replanning took: 42.375632 seconds\n",
      "counter is 2363\n",
      "h is 200\n",
      "math domain error\n",
      "math domain error\n",
      "Replanning took: 40.967614 seconds\n",
      "counter is 3523\n",
      "h is 200\n",
      "math domain error\n",
      "math domain error\n",
      "math domain error\n",
      "math domain error\n",
      "Replanning took: 38.091253 seconds\n",
      "counter is 4782\n",
      "h is 200\n",
      "math domain error\n",
      "math domain error\n",
      "Replanning took: 36.995148 seconds\n",
      "counter is 3578\n",
      "h is 200\n",
      "Replanning took: 37.645832 seconds\n",
      "counter is 2155\n",
      "h is 200\n",
      "Replanning took: 37.709666 seconds\n",
      "counter is 2407\n",
      "h is 200\n"
     ]
    }
   ],
   "source": [
    "fSet = [[[6,6]],[[6,7]],[[6,8]],[[6,9]],[[7,9]],[[9,9]],[[10,9]]] #observed fire # REMEMBER THIS>>>>\n",
    "# ,[[10,8]],[[10,7]],[[10,6]]\n",
    "# fSet = [[[6,6]]]\n",
    "newPathList = []\n",
    "oldSafeProbList = []\n",
    "newSafeProbList = []\n",
    "p3 = ProblemSetting(target = [[xTar,yTar]], endPoint = [[xEnd,yEnd]],_stochastic_environment_flag=1, _setting_num=1)\n",
    "upe = UpdateEnv(p1.M,p1.N,p1.Wall,p1.Fire,monteCarloFireMap, monteCarloAverageFireMap, obsvEffectRange=_obsvEffectRange, replanRange=_replanRange,tT = tT,aDP1=aDP1)\n",
    "for f in fSet:   \n",
    "    upe.observe_from_fire(f,tT,xT,yT)\n",
    "    _t = time.time()\n",
    "    upe.dijk_to_edge(upe.replanRange)\n",
    "    maxNeighborIndex = np.argmax(np.exp(np.multiply(-1,upe.fullPossibleProbs)))\n",
    "    newPath = copy.deepcopy(upe.possiblePathsAfter[maxNeighborIndex])\n",
    "    for p in range(len(upe.possiblePathsBefore[maxNeighborIndex])-2,-1,-1):\n",
    "        newPath.insert(0,(upe.possiblePathsBefore[maxNeighborIndex][p][0],upe.possiblePathsBefore[maxNeighborIndex][p][1],-1)) # NOTICE: only -1 for now\n",
    "    newPathList.append(newPath)\n",
    "    elapsed_ = time.time() - _t\n",
    "    print('Replanning took: %f seconds' %(elapsed_))\n",
    "    monteCarloAverageFireMapExamObsv, monteCarloFireMapExamObsv = p3.compute_monteCarlo_obsv(200,pickleSave=True,fireLocationArray=f,obsvTime=tT,fileName=str(f[0][0])+str(f[0][1]))\n",
    "    pe3 = PathEvaluation(monteCarloFireMapExamObsv)\n",
    "    newSafeProbList.append(pe3.evaluate_path_t(newPath, tT))\n",
    "    oldSafeProbList.append(pe3.evaluate_path_t(oldPath, tT))"
   ]
  },
  {
   "cell_type": "code",
   "execution_count": 373,
   "metadata": {
    "collapsed": true
   },
   "outputs": [
    {
     "data": {
      "text/plain": [
       "[(8, 7, -1),\n",
       " (9, 7, -1),\n",
       " (10, 7, -1),\n",
       " (11, 7, -1),\n",
       " (12, 7, -1),\n",
       " (13, 7, -1),\n",
       " (14, 7, -1),\n",
       " (14, 8, -1),\n",
       " (14, 9, -1),\n",
       " (14, 10, -1),\n",
       " (14, 11, -1),\n",
       " (14, 12, -1),\n",
       " (14, 13, -1),\n",
       " (14, 14, -1),\n",
       " (14, 15, -1),\n",
       " (14, 16, -1),\n",
       " (13, 16, -1),\n",
       " (12, 16, -1),\n",
       " (11, 16, -1),\n",
       " (10, 16, -1),\n",
       " (9, 16, -1),\n",
       " (8, 16, -2),\n",
       " (8, 17, -2),\n",
       " (8, 18, -2),\n",
       " (8, 19, -2),\n",
       " (9, 19, -2),\n",
       " (10, 19, -2),\n",
       " (11, 19, -3)]"
      ]
     },
     "execution_count": 373,
     "metadata": {},
     "output_type": "execute_result"
    }
   ],
   "source": [
    "newPathList[1]"
   ]
  },
  {
   "cell_type": "code",
   "execution_count": 366,
   "metadata": {},
   "outputs": [
    {
     "name": "stdout",
     "output_type": "stream",
     "text": [
      "[0.03, 0.03, 0.0, 0.0, 0.0, 0.09, 0.12, 0.12, 0.12]\n",
      "[0.18, 0.08, 0.1, 0.19, 0.1, 0.09, 0.12, 0.12, 0.12]\n"
     ]
    }
   ],
   "source": [
    "print(oldSafeProbList)\n",
    "print(newSafeProbList)"
   ]
  },
  {
   "cell_type": "code",
   "execution_count": 370,
   "metadata": {},
   "outputs": [
    {
     "name": "stdout",
     "output_type": "stream",
     "text": [
      "[0.09, 0.015, 0.0, 0.0, 0.01, 0.08, 0.055]\n",
      "[0.12, 0.17, 0.155, 0.1, 0.095, 0.08, 0.055]\n"
     ]
    }
   ],
   "source": [
    "print(oldSafeProbList)\n",
    "print(newSafeProbList)"
   ]
  },
  {
   "cell_type": "code",
   "execution_count": null,
   "metadata": {},
   "outputs": [],
   "source": [
    "# D* Lite result\n",
    "0.06 0.06 0.01 0.04 0.06 0.05 0.11 0.05 (100)\n",
    "0.045 0.04 0.035 0.025 0.02 0.06 0.05 "
   ]
  },
  {
   "cell_type": "markdown",
   "metadata": {},
   "source": [
    "## Test code"
   ]
  },
  {
   "cell_type": "code",
   "execution_count": 215,
   "metadata": {},
   "outputs": [
    {
     "data": {
      "text/plain": [
       "[0.8473581213307241,\n",
       " 0.6096579476861167,\n",
       " 0.6948640483383686,\n",
       " 0.6109589041095891,\n",
       " 0.7465753424657534,\n",
       " 0.7075471698113207,\n",
       " 0.6965944272445821,\n",
       " 0.7763578274760383,\n",
       " 0.8532934131736527,\n",
       " 0.9609756097560975,\n",
       " 0.9487179487179487,\n",
       " 0.8686679174484052,\n",
       " 0.8486707566462167,\n",
       " 0.825,\n",
       " 0.9405940594059405,\n",
       " 0.9501084598698482,\n",
       " 0.9780439121756487,\n",
       " 0.9147005444646098,\n",
       " 0.9123809523809524,\n",
       " 0.9278752436647173]"
      ]
     },
     "execution_count": 215,
     "metadata": {},
     "output_type": "execute_result"
    }
   ],
   "source": [
    "safeProbSegmentList2 = [upe.pe.evaluate_segment_obsv(9+ind,\n",
    "                               [routesFromNow[ind][0],\n",
    "                                routesFromNow[ind][1]],\n",
    "                               9+ind+1,\n",
    "                               [routesFromNow[ind+1][0],\n",
    "                                routesFromNow[ind+1][1]],\n",
    "                               9,\n",
    "                               upe.observedFireLocationArray) \n",
    " for ind,(x,y,q) in enumerate(routesFromNowCopied[:-1])]\n",
    "safeProbSegmentList2"
   ]
  },
  {
   "cell_type": "code",
   "execution_count": 337,
   "metadata": {},
   "outputs": [
    {
     "data": {
      "text/plain": [
       "0.0"
      ]
     },
     "execution_count": 337,
     "metadata": {},
     "output_type": "execute_result"
    }
   ],
   "source": [
    "upe.dijkPathFinder.savedSafeProb[7,8,7,8,6]"
   ]
  },
  {
   "cell_type": "code",
   "execution_count": 193,
   "metadata": {
    "collapsed": true
   },
   "outputs": [
    {
     "data": {
      "text/plain": [
       "[(7, 7, -1),\n",
       " (7, 8, -1),\n",
       " (6, 8, -1),\n",
       " (6, 9, -1),\n",
       " (5, 9, -1),\n",
       " (5, 10, -1),\n",
       " (5, 11, -1),\n",
       " (5, 12, -1),\n",
       " (5, 13, -1),\n",
       " (5, 14, -1),\n",
       " (5, 15, -1),\n",
       " (5, 16, -1),\n",
       " (6, 16, -1),\n",
       " (7, 16, -1),\n",
       " (8, 16, -2),\n",
       " (8, 17, -2),\n",
       " (8, 18, -2),\n",
       " (8, 19, -2),\n",
       " (9, 19, -2),\n",
       " (10, 19, -2),\n",
       " (11, 19, -3),\n",
       " (11, 19, -3),\n",
       " (11, 19, -3),\n",
       " (11, 19, -3),\n",
       " (11, 19, -3),\n",
       " (11, 19, -3),\n",
       " (11, 19, -3),\n",
       " (11, 19, -3),\n",
       " (11, 19, -3),\n",
       " (11, 19, -3),\n",
       " (11, 19, -3),\n",
       " (11, 19, -3),\n",
       " (11, 19, -3),\n",
       " (11, 19, -3),\n",
       " (11, 19, -3),\n",
       " (11, 19, -3),\n",
       " (11, 19, -3),\n",
       " (11, 19, -3),\n",
       " (11, 19, -3),\n",
       " (11, 19, -3),\n",
       " (11, 19, -3),\n",
       " (11, 19, -3)]"
      ]
     },
     "execution_count": 193,
     "metadata": {},
     "output_type": "execute_result"
    }
   ],
   "source": [
    "costsFromNow, routesFromNow, controlsFromNow = aDP1.query_optimal_solution(9, [7,7,-1])\n",
    "routesFromNow"
   ]
  },
  {
   "cell_type": "code",
   "execution_count": 338,
   "metadata": {
    "scrolled": true
   },
   "outputs": [
    {
     "ename": "TypeError",
     "evalue": "cannot unpack non-iterable NoneType object",
     "output_type": "error",
     "traceback": [
      "\u001b[1;31m---------------------------------------------------------------------------\u001b[0m",
      "\u001b[1;31mTypeError\u001b[0m                                 Traceback (most recent call last)",
      "\u001b[1;32m<ipython-input-338-ad8d9f078c23>\u001b[0m in \u001b[0;36m<module>\u001b[1;34m\u001b[0m\n\u001b[1;32m----> 1\u001b[1;33m \u001b[0m_pathSegment\u001b[0m\u001b[1;33m,\u001b[0m \u001b[0msearchNodes\u001b[0m\u001b[1;33m,\u001b[0m \u001b[0mlastNode\u001b[0m \u001b[1;33m=\u001b[0m \u001b[0mMaxProbAstar\u001b[0m\u001b[1;33m(\u001b[0m\u001b[0mupe\u001b[0m\u001b[1;33m.\u001b[0m\u001b[0mM\u001b[0m\u001b[1;33m,\u001b[0m\u001b[0mupe\u001b[0m\u001b[1;33m.\u001b[0m\u001b[0mN\u001b[0m\u001b[1;33m,\u001b[0m\u001b[0mupe\u001b[0m\u001b[1;33m.\u001b[0m\u001b[0mWall\u001b[0m\u001b[1;33m,\u001b[0m\u001b[0mmonteCarloFireMap\u001b[0m\u001b[1;33m,\u001b[0m\u001b[0mstartTime\u001b[0m \u001b[1;33m=\u001b[0m \u001b[0mupe\u001b[0m\u001b[1;33m.\u001b[0m\u001b[0mT\u001b[0m\u001b[1;33m,\u001b[0m \u001b[0mxT\u001b[0m\u001b[1;33m=\u001b[0m\u001b[0mxT\u001b[0m\u001b[1;33m,\u001b[0m\u001b[0myT\u001b[0m\u001b[1;33m=\u001b[0m\u001b[0myT\u001b[0m\u001b[1;33m,\u001b[0m\u001b[0mobservedFireLocationArray\u001b[0m \u001b[1;33m=\u001b[0m \u001b[0mupe\u001b[0m\u001b[1;33m.\u001b[0m\u001b[0mobservedFireLocationArray\u001b[0m\u001b[1;33m)\u001b[0m\u001b[1;33m.\u001b[0m\u001b[0mastar\u001b[0m\u001b[1;33m(\u001b[0m\u001b[0mtuple\u001b[0m\u001b[1;33m(\u001b[0m\u001b[1;33m[\u001b[0m\u001b[0mupe\u001b[0m\u001b[1;33m.\u001b[0m\u001b[0mxT\u001b[0m\u001b[1;33m,\u001b[0m\u001b[0mupe\u001b[0m\u001b[1;33m.\u001b[0m\u001b[0myT\u001b[0m\u001b[1;33m]\u001b[0m\u001b[1;33m)\u001b[0m\u001b[1;33m,\u001b[0m\u001b[0mtuple\u001b[0m\u001b[1;33m(\u001b[0m\u001b[0mloc2\u001b[0m\u001b[1;33m)\u001b[0m\u001b[1;33m)\u001b[0m\u001b[1;33m\u001b[0m\u001b[1;33m\u001b[0m\u001b[0m\n\u001b[0m",
      "\u001b[1;31mTypeError\u001b[0m: cannot unpack non-iterable NoneType object"
     ]
    }
   ],
   "source": [
    "_pathSegment, searchNodes, lastNode = MaxProbAstar(upe.M,upe.N,upe.Wall,monteCarloFireMap,startTime = upe.T, xT=xT,yT=yT,observedFireLocationArray = upe.observedFireLocationArray).astar(tuple([upe.xT,upe.yT]),tuple(loc2))"
   ]
  },
  {
   "cell_type": "code",
   "execution_count": 124,
   "metadata": {},
   "outputs": [],
   "source": [
    "pathSegment = list(_pathSegment)"
   ]
  },
  {
   "cell_type": "code",
   "execution_count": 125,
   "metadata": {},
   "outputs": [
    {
     "data": {
      "text/plain": [
       "[(8, 7), (8, 8), (7, 8), (6, 8)]"
      ]
     },
     "execution_count": 125,
     "metadata": {},
     "output_type": "execute_result"
    }
   ],
   "source": [
    "pathSegment"
   ]
  },
  {
   "cell_type": "code",
   "execution_count": 112,
   "metadata": {},
   "outputs": [
    {
     "data": {
      "text/plain": [
       "[[8, 8], [7, 8], [6, 8]]"
      ]
     },
     "execution_count": 112,
     "metadata": {},
     "output_type": "execute_result"
    }
   ],
   "source": [
    "[[pathSegment[ind+1][0],pathSegment[ind+1][1]] for ind,(x,y) in enumerate(pathSegment[:-1])]"
   ]
  },
  {
   "cell_type": "code",
   "execution_count": 126,
   "metadata": {},
   "outputs": [
    {
     "name": "stdout",
     "output_type": "stream",
     "text": [
      "Corresponding episode number: 302\n",
      "safeProb from [8, 7] to [8, 8] is 0.946843853820598\n",
      "Corresponding episode number: 302\n",
      "safeProb from [8, 8] to [7, 8] is 0.856140350877193\n",
      "Corresponding episode number: 302\n",
      "safeProb from [7, 8] to [6, 8] is 0.6532258064516129\n",
      "[0.946843853820598, 0.856140350877193, 0.6532258064516129]\n"
     ]
    }
   ],
   "source": [
    "safeProbSegmentList = [upe.pe.evaluate_segment_obsv(upe.T+ind,[pathSegment[ind][0],pathSegment[ind][1]],upe.T+ind+1,[pathSegment[ind+1][0],pathSegment[ind+1][1]],upe.T,upe.observedFireLocationArray) for ind,(x,y) in enumerate(pathSegment[:-1])]\n",
    "print(safeProbSegmentList)"
   ]
  },
  {
   "cell_type": "code",
   "execution_count": 129,
   "metadata": {},
   "outputs": [
    {
     "name": "stdout",
     "output_type": "stream",
     "text": [
      "0.5295252384524702\n"
     ]
    },
    {
     "data": {
      "text/plain": [
       "0.635774450388272"
      ]
     },
     "execution_count": 129,
     "metadata": {},
     "output_type": "execute_result"
    }
   ],
   "source": [
    "safeProbSegment = functools.reduce(lambda a,b:a*b, safeProbSegmentList)\n",
    "print(safeProbSegment)\n",
    "-math.log(safeProbSegment)"
   ]
  }
 ],
 "metadata": {
  "kernelspec": {
   "display_name": "Python 3",
   "language": "python",
   "name": "python3"
  },
  "language_info": {
   "codemirror_mode": {
    "name": "ipython",
    "version": 3
   },
   "file_extension": ".py",
   "mimetype": "text/x-python",
   "name": "python",
   "nbconvert_exporter": "python",
   "pygments_lexer": "ipython3",
   "version": "3.7.6"
  }
 },
 "nbformat": 4,
 "nbformat_minor": 4
}
